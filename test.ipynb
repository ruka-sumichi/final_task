{
 "cells": [
  {
   "cell_type": "code",
   "execution_count": 1410,
   "metadata": {},
   "outputs": [],
   "source": [
    "import numpy as np \n",
    "import pandas as pd\n",
    "import seaborn as sns\n",
    "import matplotlib.pyplot as plt"
   ]
  },
  {
   "cell_type": "code",
   "execution_count": 1411,
   "metadata": {},
   "outputs": [],
   "source": [
    "import os\n",
    "for dirname, _, filenames in os.walk('/kaggle/input'):\n",
    "    for filename in filenames:\n",
    "        print(os.path.join(dirname, filename))"
   ]
  },
  {
   "cell_type": "code",
   "execution_count": 1412,
   "metadata": {},
   "outputs": [],
   "source": [
    "#データフレームへの読み込み\n",
    "df = pd.read_csv('/Users/rukasumichika/最終課題/data/LengthOfStay.csv')"
   ]
  },
  {
   "cell_type": "code",
   "execution_count": 1445,
   "metadata": {},
   "outputs": [],
   "source": [
    "from ydata_profiling import ProfileReport"
   ]
  },
  {
   "cell_type": "code",
   "execution_count": 1414,
   "metadata": {},
   "outputs": [
    {
     "name": "stdout",
     "output_type": "stream",
     "text": [
      "   eid       vdate rcount gender  dialysisrenalendstage  asthma  irondef  \\\n",
      "0    1   8/29/2012      0      F                      0       0        0   \n",
      "1    2   5/26/2012     5+      F                      0       0        0   \n",
      "2    3   9/22/2012      1      F                      0       0        0   \n",
      "3    4    8/9/2012      0      F                      0       0        0   \n",
      "4    5  12/20/2012      0      F                      0       0        0   \n",
      "\n",
      "   pneum  substancedependence  psychologicaldisordermajor  ...     glucose  \\\n",
      "0      0                    0                           0  ...  192.476918   \n",
      "1      0                    0                           0  ...   94.078507   \n",
      "2      0                    0                           0  ...  130.530524   \n",
      "3      0                    0                           0  ...  163.377028   \n",
      "4      1                    0                           1  ...   94.886654   \n",
      "\n",
      "   bloodureanitro  creatinine        bmi  pulse  respiration  \\\n",
      "0            12.0    1.390722  30.432418     96          6.5   \n",
      "1             8.0    0.943164  28.460516     61          6.5   \n",
      "2            12.0    1.065750  28.843812     64          6.5   \n",
      "3            12.0    0.906862  27.959007     76          6.5   \n",
      "4            11.5    1.242854  30.258927     67          5.6   \n",
      "\n",
      "   secondarydiagnosisnonicd9  discharged  facid  lengthofstay  \n",
      "0                          4    9/1/2012      B             3  \n",
      "1                          1    6/2/2012      A             7  \n",
      "2                          2   9/25/2012      B             3  \n",
      "3                          1   8/10/2012      A             1  \n",
      "4                          2  12/24/2012      E             4  \n",
      "\n",
      "[5 rows x 28 columns]\n"
     ]
    }
   ],
   "source": [
    "# データの最初の5行を表示\n",
    "print(df.head())"
   ]
  },
  {
   "cell_type": "code",
   "execution_count": 1415,
   "metadata": {},
   "outputs": [
    {
     "data": {
      "text/html": [
       "<div>\n",
       "<style scoped>\n",
       "    .dataframe tbody tr th:only-of-type {\n",
       "        vertical-align: middle;\n",
       "    }\n",
       "\n",
       "    .dataframe tbody tr th {\n",
       "        vertical-align: top;\n",
       "    }\n",
       "\n",
       "    .dataframe thead th {\n",
       "        text-align: right;\n",
       "    }\n",
       "</style>\n",
       "<table border=\"1\" class=\"dataframe\">\n",
       "  <thead>\n",
       "    <tr style=\"text-align: right;\">\n",
       "      <th></th>\n",
       "      <th>eid</th>\n",
       "      <th>dialysisrenalendstage</th>\n",
       "      <th>asthma</th>\n",
       "      <th>irondef</th>\n",
       "      <th>pneum</th>\n",
       "      <th>substancedependence</th>\n",
       "      <th>psychologicaldisordermajor</th>\n",
       "      <th>depress</th>\n",
       "      <th>psychother</th>\n",
       "      <th>fibrosisandother</th>\n",
       "      <th>...</th>\n",
       "      <th>neutrophils</th>\n",
       "      <th>sodium</th>\n",
       "      <th>glucose</th>\n",
       "      <th>bloodureanitro</th>\n",
       "      <th>creatinine</th>\n",
       "      <th>bmi</th>\n",
       "      <th>pulse</th>\n",
       "      <th>respiration</th>\n",
       "      <th>secondarydiagnosisnonicd9</th>\n",
       "      <th>lengthofstay</th>\n",
       "    </tr>\n",
       "  </thead>\n",
       "  <tbody>\n",
       "    <tr>\n",
       "      <th>count</th>\n",
       "      <td>100000.000000</td>\n",
       "      <td>100000.000000</td>\n",
       "      <td>100000.000000</td>\n",
       "      <td>100000.000000</td>\n",
       "      <td>100000.000000</td>\n",
       "      <td>100000.000000</td>\n",
       "      <td>100000.000000</td>\n",
       "      <td>100000.000000</td>\n",
       "      <td>100000.000000</td>\n",
       "      <td>100000.000000</td>\n",
       "      <td>...</td>\n",
       "      <td>100000.000000</td>\n",
       "      <td>100000.000000</td>\n",
       "      <td>100000.000000</td>\n",
       "      <td>100000.000000</td>\n",
       "      <td>100000.000000</td>\n",
       "      <td>100000.000000</td>\n",
       "      <td>100000.000000</td>\n",
       "      <td>100000.000000</td>\n",
       "      <td>100000.000000</td>\n",
       "      <td>100000.00000</td>\n",
       "    </tr>\n",
       "    <tr>\n",
       "      <th>mean</th>\n",
       "      <td>50000.500000</td>\n",
       "      <td>0.036420</td>\n",
       "      <td>0.035270</td>\n",
       "      <td>0.094940</td>\n",
       "      <td>0.039450</td>\n",
       "      <td>0.063060</td>\n",
       "      <td>0.239040</td>\n",
       "      <td>0.051660</td>\n",
       "      <td>0.049390</td>\n",
       "      <td>0.004790</td>\n",
       "      <td>...</td>\n",
       "      <td>10.177455</td>\n",
       "      <td>137.891397</td>\n",
       "      <td>141.963384</td>\n",
       "      <td>14.097185</td>\n",
       "      <td>1.099350</td>\n",
       "      <td>29.805759</td>\n",
       "      <td>73.444720</td>\n",
       "      <td>6.493768</td>\n",
       "      <td>2.123310</td>\n",
       "      <td>4.00103</td>\n",
       "    </tr>\n",
       "    <tr>\n",
       "      <th>std</th>\n",
       "      <td>28867.657797</td>\n",
       "      <td>0.187334</td>\n",
       "      <td>0.184462</td>\n",
       "      <td>0.293134</td>\n",
       "      <td>0.194664</td>\n",
       "      <td>0.243072</td>\n",
       "      <td>0.426499</td>\n",
       "      <td>0.221341</td>\n",
       "      <td>0.216682</td>\n",
       "      <td>0.069044</td>\n",
       "      <td>...</td>\n",
       "      <td>5.353131</td>\n",
       "      <td>2.999669</td>\n",
       "      <td>29.992996</td>\n",
       "      <td>12.952454</td>\n",
       "      <td>0.200262</td>\n",
       "      <td>2.003769</td>\n",
       "      <td>11.644555</td>\n",
       "      <td>0.568473</td>\n",
       "      <td>2.050641</td>\n",
       "      <td>2.36031</td>\n",
       "    </tr>\n",
       "    <tr>\n",
       "      <th>min</th>\n",
       "      <td>1.000000</td>\n",
       "      <td>0.000000</td>\n",
       "      <td>0.000000</td>\n",
       "      <td>0.000000</td>\n",
       "      <td>0.000000</td>\n",
       "      <td>0.000000</td>\n",
       "      <td>0.000000</td>\n",
       "      <td>0.000000</td>\n",
       "      <td>0.000000</td>\n",
       "      <td>0.000000</td>\n",
       "      <td>...</td>\n",
       "      <td>0.100000</td>\n",
       "      <td>124.912632</td>\n",
       "      <td>-1.005927</td>\n",
       "      <td>1.000000</td>\n",
       "      <td>0.219770</td>\n",
       "      <td>21.992683</td>\n",
       "      <td>21.000000</td>\n",
       "      <td>0.200000</td>\n",
       "      <td>0.000000</td>\n",
       "      <td>1.00000</td>\n",
       "    </tr>\n",
       "    <tr>\n",
       "      <th>25%</th>\n",
       "      <td>25000.750000</td>\n",
       "      <td>0.000000</td>\n",
       "      <td>0.000000</td>\n",
       "      <td>0.000000</td>\n",
       "      <td>0.000000</td>\n",
       "      <td>0.000000</td>\n",
       "      <td>0.000000</td>\n",
       "      <td>0.000000</td>\n",
       "      <td>0.000000</td>\n",
       "      <td>0.000000</td>\n",
       "      <td>...</td>\n",
       "      <td>7.700000</td>\n",
       "      <td>135.871062</td>\n",
       "      <td>121.682383</td>\n",
       "      <td>11.000000</td>\n",
       "      <td>0.964720</td>\n",
       "      <td>28.454235</td>\n",
       "      <td>66.000000</td>\n",
       "      <td>6.500000</td>\n",
       "      <td>1.000000</td>\n",
       "      <td>2.00000</td>\n",
       "    </tr>\n",
       "    <tr>\n",
       "      <th>50%</th>\n",
       "      <td>50000.500000</td>\n",
       "      <td>0.000000</td>\n",
       "      <td>0.000000</td>\n",
       "      <td>0.000000</td>\n",
       "      <td>0.000000</td>\n",
       "      <td>0.000000</td>\n",
       "      <td>0.000000</td>\n",
       "      <td>0.000000</td>\n",
       "      <td>0.000000</td>\n",
       "      <td>0.000000</td>\n",
       "      <td>...</td>\n",
       "      <td>9.400000</td>\n",
       "      <td>137.887151</td>\n",
       "      <td>142.088545</td>\n",
       "      <td>12.000000</td>\n",
       "      <td>1.098764</td>\n",
       "      <td>29.807516</td>\n",
       "      <td>73.000000</td>\n",
       "      <td>6.500000</td>\n",
       "      <td>1.000000</td>\n",
       "      <td>4.00000</td>\n",
       "    </tr>\n",
       "    <tr>\n",
       "      <th>75%</th>\n",
       "      <td>75000.250000</td>\n",
       "      <td>0.000000</td>\n",
       "      <td>0.000000</td>\n",
       "      <td>0.000000</td>\n",
       "      <td>0.000000</td>\n",
       "      <td>0.000000</td>\n",
       "      <td>0.000000</td>\n",
       "      <td>0.000000</td>\n",
       "      <td>0.000000</td>\n",
       "      <td>0.000000</td>\n",
       "      <td>...</td>\n",
       "      <td>11.500000</td>\n",
       "      <td>139.912885</td>\n",
       "      <td>162.180996</td>\n",
       "      <td>14.000000</td>\n",
       "      <td>1.234867</td>\n",
       "      <td>31.156885</td>\n",
       "      <td>81.000000</td>\n",
       "      <td>6.500000</td>\n",
       "      <td>3.000000</td>\n",
       "      <td>6.00000</td>\n",
       "    </tr>\n",
       "    <tr>\n",
       "      <th>max</th>\n",
       "      <td>100000.000000</td>\n",
       "      <td>1.000000</td>\n",
       "      <td>1.000000</td>\n",
       "      <td>1.000000</td>\n",
       "      <td>1.000000</td>\n",
       "      <td>1.000000</td>\n",
       "      <td>1.000000</td>\n",
       "      <td>1.000000</td>\n",
       "      <td>1.000000</td>\n",
       "      <td>1.000000</td>\n",
       "      <td>...</td>\n",
       "      <td>245.900000</td>\n",
       "      <td>151.387283</td>\n",
       "      <td>271.444277</td>\n",
       "      <td>682.500000</td>\n",
       "      <td>2.035202</td>\n",
       "      <td>38.935293</td>\n",
       "      <td>130.000000</td>\n",
       "      <td>10.000000</td>\n",
       "      <td>10.000000</td>\n",
       "      <td>17.00000</td>\n",
       "    </tr>\n",
       "  </tbody>\n",
       "</table>\n",
       "<p>8 rows × 23 columns</p>\n",
       "</div>"
      ],
      "text/plain": [
       "                 eid  dialysisrenalendstage         asthma        irondef  \\\n",
       "count  100000.000000          100000.000000  100000.000000  100000.000000   \n",
       "mean    50000.500000               0.036420       0.035270       0.094940   \n",
       "std     28867.657797               0.187334       0.184462       0.293134   \n",
       "min         1.000000               0.000000       0.000000       0.000000   \n",
       "25%     25000.750000               0.000000       0.000000       0.000000   \n",
       "50%     50000.500000               0.000000       0.000000       0.000000   \n",
       "75%     75000.250000               0.000000       0.000000       0.000000   \n",
       "max    100000.000000               1.000000       1.000000       1.000000   \n",
       "\n",
       "               pneum  substancedependence  psychologicaldisordermajor  \\\n",
       "count  100000.000000        100000.000000               100000.000000   \n",
       "mean        0.039450             0.063060                    0.239040   \n",
       "std         0.194664             0.243072                    0.426499   \n",
       "min         0.000000             0.000000                    0.000000   \n",
       "25%         0.000000             0.000000                    0.000000   \n",
       "50%         0.000000             0.000000                    0.000000   \n",
       "75%         0.000000             0.000000                    0.000000   \n",
       "max         1.000000             1.000000                    1.000000   \n",
       "\n",
       "             depress     psychother  fibrosisandother  ...    neutrophils  \\\n",
       "count  100000.000000  100000.000000     100000.000000  ...  100000.000000   \n",
       "mean        0.051660       0.049390          0.004790  ...      10.177455   \n",
       "std         0.221341       0.216682          0.069044  ...       5.353131   \n",
       "min         0.000000       0.000000          0.000000  ...       0.100000   \n",
       "25%         0.000000       0.000000          0.000000  ...       7.700000   \n",
       "50%         0.000000       0.000000          0.000000  ...       9.400000   \n",
       "75%         0.000000       0.000000          0.000000  ...      11.500000   \n",
       "max         1.000000       1.000000          1.000000  ...     245.900000   \n",
       "\n",
       "              sodium        glucose  bloodureanitro     creatinine  \\\n",
       "count  100000.000000  100000.000000   100000.000000  100000.000000   \n",
       "mean      137.891397     141.963384       14.097185       1.099350   \n",
       "std         2.999669      29.992996       12.952454       0.200262   \n",
       "min       124.912632      -1.005927        1.000000       0.219770   \n",
       "25%       135.871062     121.682383       11.000000       0.964720   \n",
       "50%       137.887151     142.088545       12.000000       1.098764   \n",
       "75%       139.912885     162.180996       14.000000       1.234867   \n",
       "max       151.387283     271.444277      682.500000       2.035202   \n",
       "\n",
       "                 bmi          pulse    respiration  secondarydiagnosisnonicd9  \\\n",
       "count  100000.000000  100000.000000  100000.000000              100000.000000   \n",
       "mean       29.805759      73.444720       6.493768                   2.123310   \n",
       "std         2.003769      11.644555       0.568473                   2.050641   \n",
       "min        21.992683      21.000000       0.200000                   0.000000   \n",
       "25%        28.454235      66.000000       6.500000                   1.000000   \n",
       "50%        29.807516      73.000000       6.500000                   1.000000   \n",
       "75%        31.156885      81.000000       6.500000                   3.000000   \n",
       "max        38.935293     130.000000      10.000000                  10.000000   \n",
       "\n",
       "       lengthofstay  \n",
       "count  100000.00000  \n",
       "mean        4.00103  \n",
       "std         2.36031  \n",
       "min         1.00000  \n",
       "25%         2.00000  \n",
       "50%         4.00000  \n",
       "75%         6.00000  \n",
       "max        17.00000  \n",
       "\n",
       "[8 rows x 23 columns]"
      ]
     },
     "execution_count": 1415,
     "metadata": {},
     "output_type": "execute_result"
    }
   ],
   "source": [
    "# データの統計情報を確認\n",
    "df.describe()"
   ]
  },
  {
   "cell_type": "code",
   "execution_count": 1416,
   "metadata": {},
   "outputs": [
    {
     "name": "stdout",
     "output_type": "stream",
     "text": [
      "<class 'pandas.core.frame.DataFrame'>\n",
      "RangeIndex: 100000 entries, 0 to 99999\n",
      "Data columns (total 28 columns):\n",
      " #   Column                      Non-Null Count   Dtype  \n",
      "---  ------                      --------------   -----  \n",
      " 0   eid                         100000 non-null  int64  \n",
      " 1   vdate                       100000 non-null  object \n",
      " 2   rcount                      100000 non-null  object \n",
      " 3   gender                      100000 non-null  object \n",
      " 4   dialysisrenalendstage       100000 non-null  int64  \n",
      " 5   asthma                      100000 non-null  int64  \n",
      " 6   irondef                     100000 non-null  int64  \n",
      " 7   pneum                       100000 non-null  int64  \n",
      " 8   substancedependence         100000 non-null  int64  \n",
      " 9   psychologicaldisordermajor  100000 non-null  int64  \n",
      " 10  depress                     100000 non-null  int64  \n",
      " 11  psychother                  100000 non-null  int64  \n",
      " 12  fibrosisandother            100000 non-null  int64  \n",
      " 13  malnutrition                100000 non-null  int64  \n",
      " 14  hemo                        100000 non-null  int64  \n",
      " 15  hematocrit                  100000 non-null  float64\n",
      " 16  neutrophils                 100000 non-null  float64\n",
      " 17  sodium                      100000 non-null  float64\n",
      " 18  glucose                     100000 non-null  float64\n",
      " 19  bloodureanitro              100000 non-null  float64\n",
      " 20  creatinine                  100000 non-null  float64\n",
      " 21  bmi                         100000 non-null  float64\n",
      " 22  pulse                       100000 non-null  int64  \n",
      " 23  respiration                 100000 non-null  float64\n",
      " 24  secondarydiagnosisnonicd9   100000 non-null  int64  \n",
      " 25  discharged                  100000 non-null  object \n",
      " 26  facid                       100000 non-null  object \n",
      " 27  lengthofstay                100000 non-null  int64  \n",
      "dtypes: float64(8), int64(15), object(5)\n",
      "memory usage: 21.4+ MB\n"
     ]
    }
   ],
   "source": [
    "# データの情報を確認\n",
    "df.info()"
   ]
  },
  {
   "cell_type": "code",
   "execution_count": 1417,
   "metadata": {},
   "outputs": [
    {
     "name": "stdout",
     "output_type": "stream",
     "text": [
      "Index(['rcount', 'gender', 'dialysisrenalendstage', 'asthma', 'irondef',\n",
      "       'pneum', 'substancedependence', 'psychologicaldisordermajor', 'depress',\n",
      "       'psychother', 'fibrosisandother', 'malnutrition', 'hemo', 'hematocrit',\n",
      "       'neutrophils', 'sodium', 'glucose', 'bloodureanitro', 'creatinine',\n",
      "       'bmi', 'pulse', 'respiration', 'secondarydiagnosisnonicd9', 'facid',\n",
      "       'lengthofstay'],\n",
      "      dtype='object')\n"
     ]
    }
   ],
   "source": [
    "# 'eid', 'vdate', 'discharged'を除外する\n",
    "df_filtered = df.drop(columns=['eid', 'vdate', 'discharged'])\n",
    "print(df_filtered.columns)"
   ]
  },
  {
   "cell_type": "code",
   "execution_count": 1418,
   "metadata": {},
   "outputs": [
    {
     "data": {
      "image/png": "[encoded data removed]",
      "text/plain": [
       "<Figure size 600x600 with 1 Axes>"
      ]
     },
     "metadata": {},
     "output_type": "display_data"
    }
   ],
   "source": [
    "# gender ごとの lengthofstay の平均を計算\n",
    "gender_distinction = df.groupby('gender')['lengthofstay'].mean().reset_index()\n",
    "\n",
    "# グラフの描画\n",
    "fig, ax = plt.subplots(figsize=(6, 6))\n",
    "sns.barplot(x='gender', y='lengthofstay', data=gender_distinction, ax=ax)\n",
    "ax.set_title('Average lengthofstay by gender')\n",
    "ax.set_xlabel('gender')\n",
    "ax.set_ylabel('Average lengthofstay')\n",
    "\n",
    "# 各バーの上に数値ラベルを追加\n",
    "for index, row in gender_distinction.iterrows():\n",
    "    ax.text(index, row['lengthofstay'] + 0.05, round(row['lengthofstay'], 1), ha=\"center\")\n",
    "\n",
    "# グラフを表示\n",
    "plt.show()"
   ]
  },
  {
   "cell_type": "code",
   "execution_count": 1419,
   "metadata": {},
   "outputs": [
    {
     "data": {
      "image/png": "[encoded data removed]",
      "text/plain": [
       "<Figure size 600x600 with 1 Axes>"
      ]
     },
     "metadata": {},
     "output_type": "display_data"
    }
   ],
   "source": [
    "# facid ごとの lengthofstay の平均を計算\n",
    "facid_distinction = df.groupby('facid')['lengthofstay'].mean().reset_index()\n",
    "\n",
    "# グラフの描画\n",
    "fig, ax = plt.subplots(figsize=(6, 6))\n",
    "sns.barplot(x='facid', y='lengthofstay', data=facid_distinction, ax=ax)\n",
    "ax.set_title('Average lengthofstay by gender')\n",
    "ax.set_xlabel('facid')\n",
    "ax.set_ylabel('Average lengthofstay')\n",
    "\n",
    "# 各バーの上に数値ラベルを追加\n",
    "for index, row in facid_distinction.iterrows():\n",
    "    ax.text(index, row['lengthofstay'] + 0.05, round(row['lengthofstay'], 1), ha=\"center\")\n",
    "\n",
    "# グラフを表示\n",
    "plt.show()"
   ]
  },
  {
   "cell_type": "code",
   "execution_count": 1420,
   "metadata": {},
   "outputs": [
    {
     "data": {
      "image/png": "[encoded data removed]",
      "text/plain": [
       "<Figure size 640x480 with 5 Axes>"
      ]
     },
     "metadata": {},
     "output_type": "display_data"
    }
   ],
   "source": [
    "# 2行3列のプロット領域を作成（x軸とy軸の値を揃える）\n",
    "fig, axs = plt.subplots(2, 3, sharex=True, sharey=True)\n",
    "\n",
    "# facidごとのヒストグラムを作成\n",
    "facilities = ['A', 'B', 'C', 'D', 'E']\n",
    "\n",
    "for i, facid in enumerate(facilities):\n",
    "    row, col = divmod(i, 3)  # facidごとにサブプロットの位置を決定\n",
    "    axs[row, col].hist(df[df['facid'] == facid]['lengthofstay'], bins=20) # lengthofstayの最大値17を参考\n",
    "    axs[row, col].set_title(f'facid {facid}')\n",
    "    axs[row, col].set_xlabel('lengthofstay')\n",
    "    axs[row, col].set_ylabel('Number of people')\n",
    "\n",
    "# 不要なプロットを削除する\n",
    "fig.delaxes(axs[1, 2])\n",
    "\n",
    "# レイアウト調整して表示\n",
    "plt.tight_layout()\n",
    "plt.show()"
   ]
  },
  {
   "cell_type": "code",
   "execution_count": 1422,
   "metadata": {},
   "outputs": [
    {
     "name": "stdout",
     "output_type": "stream",
     "text": [
      "[0 5 1 3 4 2]\n",
      "int64\n"
     ]
    }
   ],
   "source": [
    "# 'rcount' 列で '5+' を 5 に変換\n",
    "df['rcount'] = df['rcount'].replace('5+', 5)\n",
    "\n",
    "# object型をint型に変換\n",
    "df['rcount'] = df['rcount'].astype(int)\n",
    "\n",
    "# rcount列に含まれる値とタイプ型を確認\n",
    "print(df['rcount'].unique())\n",
    "print(df['rcount'].dtype)"
   ]
  },
  {
   "cell_type": "code",
   "execution_count": 1423,
   "metadata": {},
   "outputs": [
    {
     "data": {
      "image/png": "[encoded data removed]",
      "text/plain": [
       "<Figure size 1200x800 with 2 Axes>"
      ]
     },
     "metadata": {},
     "output_type": "display_data"
    }
   ],
   "source": [
    "# 数字列を抜き出す\n",
    "numeric_columns = df[['lengthofstay', 'rcount', 'hematocrit', 'neutrophils', 'sodium', 'glucose', 'bloodureanitro', 'creatinine', 'bmi', 'pulse', 'respiration', 'secondarydiagnosisnonicd9']]\n",
    "\n",
    "# 相関行列を作成\n",
    "corr_matrix = numeric_columns.corr()\n",
    "\n",
    "# ヒートマップ作成\n",
    "plt.figure(figsize=(12, 8))\n",
    "sns.heatmap(corr_matrix, annot=True, cmap='coolwarm', fmt=\".2f\")\n",
    "plt.title('Correlation Heatmap of numeric_columns and lengthofstay')\n",
    "plt.xticks(rotation=45, ha='right')  # x軸ラベルを45度回転して見やすくする\n",
    "\n",
    "# レイアウト調整して表示\n",
    "plt.tight_layout()\n",
    "plt.show()"
   ]
  },
  {
   "cell_type": "code",
   "execution_count": 1424,
   "metadata": {},
   "outputs": [
    {
     "data": {
      "text/html": [
       "<div>\n",
       "<style scoped>\n",
       "    .dataframe tbody tr th:only-of-type {\n",
       "        vertical-align: middle;\n",
       "    }\n",
       "\n",
       "    .dataframe tbody tr th {\n",
       "        vertical-align: top;\n",
       "    }\n",
       "\n",
       "    .dataframe thead th {\n",
       "        text-align: right;\n",
       "    }\n",
       "</style>\n",
       "<table border=\"1\" class=\"dataframe\">\n",
       "  <thead>\n",
       "    <tr style=\"text-align: right;\">\n",
       "      <th></th>\n",
       "      <th>eid</th>\n",
       "      <th>vdate</th>\n",
       "      <th>rcount</th>\n",
       "      <th>dialysisrenalendstage</th>\n",
       "      <th>asthma</th>\n",
       "      <th>irondef</th>\n",
       "      <th>pneum</th>\n",
       "      <th>substancedependence</th>\n",
       "      <th>psychologicaldisordermajor</th>\n",
       "      <th>depress</th>\n",
       "      <th>...</th>\n",
       "      <th>creatinine</th>\n",
       "      <th>bmi</th>\n",
       "      <th>pulse</th>\n",
       "      <th>respiration</th>\n",
       "      <th>secondarydiagnosisnonicd9</th>\n",
       "      <th>discharged</th>\n",
       "      <th>facid</th>\n",
       "      <th>lengthofstay</th>\n",
       "      <th>gender_F</th>\n",
       "      <th>gender_M</th>\n",
       "    </tr>\n",
       "  </thead>\n",
       "  <tbody>\n",
       "    <tr>\n",
       "      <th>0</th>\n",
       "      <td>1</td>\n",
       "      <td>8/29/2012</td>\n",
       "      <td>0</td>\n",
       "      <td>0</td>\n",
       "      <td>0</td>\n",
       "      <td>0</td>\n",
       "      <td>0</td>\n",
       "      <td>0</td>\n",
       "      <td>0</td>\n",
       "      <td>0</td>\n",
       "      <td>...</td>\n",
       "      <td>1.390722</td>\n",
       "      <td>30.432418</td>\n",
       "      <td>96</td>\n",
       "      <td>6.5</td>\n",
       "      <td>4</td>\n",
       "      <td>9/1/2012</td>\n",
       "      <td>B</td>\n",
       "      <td>3</td>\n",
       "      <td>1</td>\n",
       "      <td>0</td>\n",
       "    </tr>\n",
       "    <tr>\n",
       "      <th>1</th>\n",
       "      <td>2</td>\n",
       "      <td>5/26/2012</td>\n",
       "      <td>5</td>\n",
       "      <td>0</td>\n",
       "      <td>0</td>\n",
       "      <td>0</td>\n",
       "      <td>0</td>\n",
       "      <td>0</td>\n",
       "      <td>0</td>\n",
       "      <td>0</td>\n",
       "      <td>...</td>\n",
       "      <td>0.943164</td>\n",
       "      <td>28.460516</td>\n",
       "      <td>61</td>\n",
       "      <td>6.5</td>\n",
       "      <td>1</td>\n",
       "      <td>6/2/2012</td>\n",
       "      <td>A</td>\n",
       "      <td>7</td>\n",
       "      <td>1</td>\n",
       "      <td>0</td>\n",
       "    </tr>\n",
       "    <tr>\n",
       "      <th>2</th>\n",
       "      <td>3</td>\n",
       "      <td>9/22/2012</td>\n",
       "      <td>1</td>\n",
       "      <td>0</td>\n",
       "      <td>0</td>\n",
       "      <td>0</td>\n",
       "      <td>0</td>\n",
       "      <td>0</td>\n",
       "      <td>0</td>\n",
       "      <td>0</td>\n",
       "      <td>...</td>\n",
       "      <td>1.065750</td>\n",
       "      <td>28.843812</td>\n",
       "      <td>64</td>\n",
       "      <td>6.5</td>\n",
       "      <td>2</td>\n",
       "      <td>9/25/2012</td>\n",
       "      <td>B</td>\n",
       "      <td>3</td>\n",
       "      <td>1</td>\n",
       "      <td>0</td>\n",
       "    </tr>\n",
       "    <tr>\n",
       "      <th>3</th>\n",
       "      <td>4</td>\n",
       "      <td>8/9/2012</td>\n",
       "      <td>0</td>\n",
       "      <td>0</td>\n",
       "      <td>0</td>\n",
       "      <td>0</td>\n",
       "      <td>0</td>\n",
       "      <td>0</td>\n",
       "      <td>0</td>\n",
       "      <td>0</td>\n",
       "      <td>...</td>\n",
       "      <td>0.906862</td>\n",
       "      <td>27.959007</td>\n",
       "      <td>76</td>\n",
       "      <td>6.5</td>\n",
       "      <td>1</td>\n",
       "      <td>8/10/2012</td>\n",
       "      <td>A</td>\n",
       "      <td>1</td>\n",
       "      <td>1</td>\n",
       "      <td>0</td>\n",
       "    </tr>\n",
       "    <tr>\n",
       "      <th>4</th>\n",
       "      <td>5</td>\n",
       "      <td>12/20/2012</td>\n",
       "      <td>0</td>\n",
       "      <td>0</td>\n",
       "      <td>0</td>\n",
       "      <td>0</td>\n",
       "      <td>1</td>\n",
       "      <td>0</td>\n",
       "      <td>1</td>\n",
       "      <td>0</td>\n",
       "      <td>...</td>\n",
       "      <td>1.242854</td>\n",
       "      <td>30.258927</td>\n",
       "      <td>67</td>\n",
       "      <td>5.6</td>\n",
       "      <td>2</td>\n",
       "      <td>12/24/2012</td>\n",
       "      <td>E</td>\n",
       "      <td>4</td>\n",
       "      <td>1</td>\n",
       "      <td>0</td>\n",
       "    </tr>\n",
       "  </tbody>\n",
       "</table>\n",
       "<p>5 rows × 29 columns</p>\n",
       "</div>"
      ],
      "text/plain": [
       "   eid       vdate  rcount  dialysisrenalendstage  asthma  irondef  pneum  \\\n",
       "0    1   8/29/2012       0                      0       0        0      0   \n",
       "1    2   5/26/2012       5                      0       0        0      0   \n",
       "2    3   9/22/2012       1                      0       0        0      0   \n",
       "3    4    8/9/2012       0                      0       0        0      0   \n",
       "4    5  12/20/2012       0                      0       0        0      1   \n",
       "\n",
       "   substancedependence  psychologicaldisordermajor  depress  ...  creatinine  \\\n",
       "0                    0                           0        0  ...    1.390722   \n",
       "1                    0                           0        0  ...    0.943164   \n",
       "2                    0                           0        0  ...    1.065750   \n",
       "3                    0                           0        0  ...    0.906862   \n",
       "4                    0                           1        0  ...    1.242854   \n",
       "\n",
       "         bmi  pulse  respiration  secondarydiagnosisnonicd9  discharged  \\\n",
       "0  30.432418     96          6.5                          4    9/1/2012   \n",
       "1  28.460516     61          6.5                          1    6/2/2012   \n",
       "2  28.843812     64          6.5                          2   9/25/2012   \n",
       "3  27.959007     76          6.5                          1   8/10/2012   \n",
       "4  30.258927     67          5.6                          2  12/24/2012   \n",
       "\n",
       "   facid  lengthofstay  gender_F  gender_M  \n",
       "0      B             3         1         0  \n",
       "1      A             7         1         0  \n",
       "2      B             3         1         0  \n",
       "3      A             1         1         0  \n",
       "4      E             4         1         0  \n",
       "\n",
       "[5 rows x 29 columns]"
      ]
     },
     "execution_count": 1424,
     "metadata": {},
     "output_type": "execute_result"
    }
   ],
   "source": [
    "# genderに対してOne-Hotエンコーディングを実装\n",
    "encoded = pd.get_dummies(df['gender'], prefix='gender')\n",
    "\n",
    "# int型に変換\n",
    "encoded = encoded.astype(int)\n",
    "\n",
    "# 元のデータフレームに結合\n",
    "df = pd.concat([df, encoded], axis=1)\n",
    "\n",
    "# 'gender' 列を削除\n",
    "df.drop('gender', axis=1, inplace=True)\n",
    "\n",
    "# 結果を確認\n",
    "df.head()"
   ]
  },
  {
   "cell_type": "code",
   "execution_count": 1425,
   "metadata": {},
   "outputs": [
    {
     "data": {
      "text/html": [
       "<div>\n",
       "<style scoped>\n",
       "    .dataframe tbody tr th:only-of-type {\n",
       "        vertical-align: middle;\n",
       "    }\n",
       "\n",
       "    .dataframe tbody tr th {\n",
       "        vertical-align: top;\n",
       "    }\n",
       "\n",
       "    .dataframe thead th {\n",
       "        text-align: right;\n",
       "    }\n",
       "</style>\n",
       "<table border=\"1\" class=\"dataframe\">\n",
       "  <thead>\n",
       "    <tr style=\"text-align: right;\">\n",
       "      <th></th>\n",
       "      <th>eid</th>\n",
       "      <th>vdate</th>\n",
       "      <th>rcount</th>\n",
       "      <th>dialysisrenalendstage</th>\n",
       "      <th>asthma</th>\n",
       "      <th>irondef</th>\n",
       "      <th>pneum</th>\n",
       "      <th>substancedependence</th>\n",
       "      <th>psychologicaldisordermajor</th>\n",
       "      <th>depress</th>\n",
       "      <th>...</th>\n",
       "      <th>secondarydiagnosisnonicd9</th>\n",
       "      <th>discharged</th>\n",
       "      <th>lengthofstay</th>\n",
       "      <th>gender_F</th>\n",
       "      <th>gender_M</th>\n",
       "      <th>facid_A</th>\n",
       "      <th>facid_B</th>\n",
       "      <th>facid_C</th>\n",
       "      <th>facid_D</th>\n",
       "      <th>facid_E</th>\n",
       "    </tr>\n",
       "  </thead>\n",
       "  <tbody>\n",
       "    <tr>\n",
       "      <th>0</th>\n",
       "      <td>1</td>\n",
       "      <td>8/29/2012</td>\n",
       "      <td>0</td>\n",
       "      <td>0</td>\n",
       "      <td>0</td>\n",
       "      <td>0</td>\n",
       "      <td>0</td>\n",
       "      <td>0</td>\n",
       "      <td>0</td>\n",
       "      <td>0</td>\n",
       "      <td>...</td>\n",
       "      <td>4</td>\n",
       "      <td>9/1/2012</td>\n",
       "      <td>3</td>\n",
       "      <td>1</td>\n",
       "      <td>0</td>\n",
       "      <td>0</td>\n",
       "      <td>1</td>\n",
       "      <td>0</td>\n",
       "      <td>0</td>\n",
       "      <td>0</td>\n",
       "    </tr>\n",
       "    <tr>\n",
       "      <th>1</th>\n",
       "      <td>2</td>\n",
       "      <td>5/26/2012</td>\n",
       "      <td>5</td>\n",
       "      <td>0</td>\n",
       "      <td>0</td>\n",
       "      <td>0</td>\n",
       "      <td>0</td>\n",
       "      <td>0</td>\n",
       "      <td>0</td>\n",
       "      <td>0</td>\n",
       "      <td>...</td>\n",
       "      <td>1</td>\n",
       "      <td>6/2/2012</td>\n",
       "      <td>7</td>\n",
       "      <td>1</td>\n",
       "      <td>0</td>\n",
       "      <td>1</td>\n",
       "      <td>0</td>\n",
       "      <td>0</td>\n",
       "      <td>0</td>\n",
       "      <td>0</td>\n",
       "    </tr>\n",
       "    <tr>\n",
       "      <th>2</th>\n",
       "      <td>3</td>\n",
       "      <td>9/22/2012</td>\n",
       "      <td>1</td>\n",
       "      <td>0</td>\n",
       "      <td>0</td>\n",
       "      <td>0</td>\n",
       "      <td>0</td>\n",
       "      <td>0</td>\n",
       "      <td>0</td>\n",
       "      <td>0</td>\n",
       "      <td>...</td>\n",
       "      <td>2</td>\n",
       "      <td>9/25/2012</td>\n",
       "      <td>3</td>\n",
       "      <td>1</td>\n",
       "      <td>0</td>\n",
       "      <td>0</td>\n",
       "      <td>1</td>\n",
       "      <td>0</td>\n",
       "      <td>0</td>\n",
       "      <td>0</td>\n",
       "    </tr>\n",
       "    <tr>\n",
       "      <th>3</th>\n",
       "      <td>4</td>\n",
       "      <td>8/9/2012</td>\n",
       "      <td>0</td>\n",
       "      <td>0</td>\n",
       "      <td>0</td>\n",
       "      <td>0</td>\n",
       "      <td>0</td>\n",
       "      <td>0</td>\n",
       "      <td>0</td>\n",
       "      <td>0</td>\n",
       "      <td>...</td>\n",
       "      <td>1</td>\n",
       "      <td>8/10/2012</td>\n",
       "      <td>1</td>\n",
       "      <td>1</td>\n",
       "      <td>0</td>\n",
       "      <td>1</td>\n",
       "      <td>0</td>\n",
       "      <td>0</td>\n",
       "      <td>0</td>\n",
       "      <td>0</td>\n",
       "    </tr>\n",
       "    <tr>\n",
       "      <th>4</th>\n",
       "      <td>5</td>\n",
       "      <td>12/20/2012</td>\n",
       "      <td>0</td>\n",
       "      <td>0</td>\n",
       "      <td>0</td>\n",
       "      <td>0</td>\n",
       "      <td>1</td>\n",
       "      <td>0</td>\n",
       "      <td>1</td>\n",
       "      <td>0</td>\n",
       "      <td>...</td>\n",
       "      <td>2</td>\n",
       "      <td>12/24/2012</td>\n",
       "      <td>4</td>\n",
       "      <td>1</td>\n",
       "      <td>0</td>\n",
       "      <td>0</td>\n",
       "      <td>0</td>\n",
       "      <td>0</td>\n",
       "      <td>0</td>\n",
       "      <td>1</td>\n",
       "    </tr>\n",
       "  </tbody>\n",
       "</table>\n",
       "<p>5 rows × 33 columns</p>\n",
       "</div>"
      ],
      "text/plain": [
       "   eid       vdate  rcount  dialysisrenalendstage  asthma  irondef  pneum  \\\n",
       "0    1   8/29/2012       0                      0       0        0      0   \n",
       "1    2   5/26/2012       5                      0       0        0      0   \n",
       "2    3   9/22/2012       1                      0       0        0      0   \n",
       "3    4    8/9/2012       0                      0       0        0      0   \n",
       "4    5  12/20/2012       0                      0       0        0      1   \n",
       "\n",
       "   substancedependence  psychologicaldisordermajor  depress  ...  \\\n",
       "0                    0                           0        0  ...   \n",
       "1                    0                           0        0  ...   \n",
       "2                    0                           0        0  ...   \n",
       "3                    0                           0        0  ...   \n",
       "4                    0                           1        0  ...   \n",
       "\n",
       "   secondarydiagnosisnonicd9  discharged  lengthofstay  gender_F  gender_M  \\\n",
       "0                          4    9/1/2012             3         1         0   \n",
       "1                          1    6/2/2012             7         1         0   \n",
       "2                          2   9/25/2012             3         1         0   \n",
       "3                          1   8/10/2012             1         1         0   \n",
       "4                          2  12/24/2012             4         1         0   \n",
       "\n",
       "   facid_A  facid_B  facid_C  facid_D  facid_E  \n",
       "0        0        1        0        0        0  \n",
       "1        1        0        0        0        0  \n",
       "2        0        1        0        0        0  \n",
       "3        1        0        0        0        0  \n",
       "4        0        0        0        0        1  \n",
       "\n",
       "[5 rows x 33 columns]"
      ]
     },
     "execution_count": 1425,
     "metadata": {},
     "output_type": "execute_result"
    }
   ],
   "source": [
    "# facidに対してOne-Hotエンコーディングを実装\n",
    "encoded = pd.get_dummies(df['facid'], prefix='facid')\n",
    "\n",
    "# bool型をint型に変換\n",
    "encoded = encoded.astype(int)\n",
    "\n",
    "# 元のデータフレームに結合\n",
    "df = pd.concat([df, encoded], axis=1)\n",
    "\n",
    "# 'facid' 列を削除\n",
    "df.drop('facid', axis=1, inplace=True)\n",
    "\n",
    "# 結果を確認\n",
    "df.head()"
   ]
  },
  {
   "cell_type": "code",
   "execution_count": 1426,
   "metadata": {},
   "outputs": [],
   "source": [
    "from sklearn.model_selection import train_test_split"
   ]
  },
  {
   "cell_type": "code",
   "execution_count": 1427,
   "metadata": {},
   "outputs": [],
   "source": [
    "# 学習データとテストデータに分割\n",
    "X = df_filtered.drop(columns=['lengthofstay']).to_numpy()\n",
    "y = df_filtered['lengthofstay'].to_numpy()"
   ]
  },
  {
   "cell_type": "code",
   "execution_count": 1428,
   "metadata": {},
   "outputs": [
    {
     "name": "stdout",
     "output_type": "stream",
     "text": [
      "(70000, 24) (30000, 24) (70000,) (30000,)\n"
     ]
    }
   ],
   "source": [
    "# 比率7:3で学習データとテストデータに分割\n",
    "X_train, X_test, y_train, y_test = train_test_split(X, y, test_size=0.3, random_state=0)\n",
    "print(X_train.shape, X_test.shape, y_train.shape, y_test.shape)"
   ]
  },
  {
   "cell_type": "code",
   "execution_count": 1429,
   "metadata": {},
   "outputs": [],
   "source": [
    "# StandardScalerクラスのインスタンス化\n",
    "from sklearn.preprocessing import StandardScaler\n",
    "scaler = StandardScaler()"
   ]
  },
  {
   "cell_type": "code",
   "execution_count": 1430,
   "metadata": {},
   "outputs": [
    {
     "name": "stdout",
     "output_type": "stream",
     "text": [
      "(70000, 24)\n",
      "Index(['rcount', 'gender', 'dialysisrenalendstage', 'asthma', 'irondef',\n",
      "       'pneum', 'substancedependence', 'psychologicaldisordermajor', 'depress',\n",
      "       'psychother', 'fibrosisandother', 'malnutrition', 'hemo', 'hematocrit',\n",
      "       'neutrophils', 'sodium', 'glucose', 'bloodureanitro', 'creatinine',\n",
      "       'bmi', 'pulse', 'respiration', 'secondarydiagnosisnonicd9', 'facid'],\n",
      "      dtype='object')\n"
     ]
    }
   ],
   "source": [
    "# 標準化したいインデックスを確認\n",
    "print(X_train.shape)\n",
    "print(df_filtered.drop(columns=['lengthofstay']).columns)"
   ]
  },
  {
   "cell_type": "code",
   "execution_count": 1431,
   "metadata": {},
   "outputs": [],
   "source": [
    "# 標準化したい特徴量を抽出（22列目までを選択）\n",
    "columns_to_scale = list(range(0, 22))"
   ]
  },
  {
   "cell_type": "code",
   "execution_count": 1432,
   "metadata": {},
   "outputs": [],
   "source": [
    "# X_trainから指定したを特徴量抽出\n",
    "X_train_selected = X_train[:, columns_to_scale]"
   ]
  },
  {
   "cell_type": "code",
   "execution_count": 1433,
   "metadata": {},
   "outputs": [
    {
     "ename": "ValueError",
     "evalue": "could not convert string to float: '5+'",
     "output_type": "error",
     "traceback": [
      "\u001b[0;31m---------------------------------------------------------------------------\u001b[0m",
      "\u001b[0;31mValueError\u001b[0m                                Traceback (most recent call last)",
      "Cell \u001b[0;32mIn[1433], line 2\u001b[0m\n\u001b[1;32m      1\u001b[0m \u001b[38;5;66;03m# StandardScalerを使って標準化\u001b[39;00m\n\u001b[0;32m----> 2\u001b[0m X_train_scaler \u001b[38;5;241m=\u001b[39m \u001b[43mscaler\u001b[49m\u001b[38;5;241;43m.\u001b[39;49m\u001b[43mfit_transform\u001b[49m\u001b[43m(\u001b[49m\u001b[43mX_train_selected\u001b[49m\u001b[43m)\u001b[49m\n",
      "File \u001b[0;32m~/Desktop/最終課題/new_env/lib/python3.8/site-packages/sklearn/utils/_set_output.py:157\u001b[0m, in \u001b[0;36m_wrap_method_output.<locals>.wrapped\u001b[0;34m(self, X, *args, **kwargs)\u001b[0m\n\u001b[1;32m    155\u001b[0m \u001b[38;5;129m@wraps\u001b[39m(f)\n\u001b[1;32m    156\u001b[0m \u001b[38;5;28;01mdef\u001b[39;00m \u001b[38;5;21mwrapped\u001b[39m(\u001b[38;5;28mself\u001b[39m, X, \u001b[38;5;241m*\u001b[39margs, \u001b[38;5;241m*\u001b[39m\u001b[38;5;241m*\u001b[39mkwargs):\n\u001b[0;32m--> 157\u001b[0m     data_to_wrap \u001b[38;5;241m=\u001b[39m \u001b[43mf\u001b[49m\u001b[43m(\u001b[49m\u001b[38;5;28;43mself\u001b[39;49m\u001b[43m,\u001b[49m\u001b[43m \u001b[49m\u001b[43mX\u001b[49m\u001b[43m,\u001b[49m\u001b[43m \u001b[49m\u001b[38;5;241;43m*\u001b[39;49m\u001b[43margs\u001b[49m\u001b[43m,\u001b[49m\u001b[43m \u001b[49m\u001b[38;5;241;43m*\u001b[39;49m\u001b[38;5;241;43m*\u001b[39;49m\u001b[43mkwargs\u001b[49m\u001b[43m)\u001b[49m\n\u001b[1;32m    158\u001b[0m     \u001b[38;5;28;01mif\u001b[39;00m \u001b[38;5;28misinstance\u001b[39m(data_to_wrap, \u001b[38;5;28mtuple\u001b[39m):\n\u001b[1;32m    159\u001b[0m         \u001b[38;5;66;03m# only wrap the first output for cross decomposition\u001b[39;00m\n\u001b[1;32m    160\u001b[0m         return_tuple \u001b[38;5;241m=\u001b[39m (\n\u001b[1;32m    161\u001b[0m             _wrap_data_with_container(method, data_to_wrap[\u001b[38;5;241m0\u001b[39m], X, \u001b[38;5;28mself\u001b[39m),\n\u001b[1;32m    162\u001b[0m             \u001b[38;5;241m*\u001b[39mdata_to_wrap[\u001b[38;5;241m1\u001b[39m:],\n\u001b[1;32m    163\u001b[0m         )\n",
      "File \u001b[0;32m~/Desktop/最終課題/new_env/lib/python3.8/site-packages/sklearn/base.py:916\u001b[0m, in \u001b[0;36mTransformerMixin.fit_transform\u001b[0;34m(self, X, y, **fit_params)\u001b[0m\n\u001b[1;32m    912\u001b[0m \u001b[38;5;66;03m# non-optimized default implementation; override when a better\u001b[39;00m\n\u001b[1;32m    913\u001b[0m \u001b[38;5;66;03m# method is possible for a given clustering algorithm\u001b[39;00m\n\u001b[1;32m    914\u001b[0m \u001b[38;5;28;01mif\u001b[39;00m y \u001b[38;5;129;01mis\u001b[39;00m \u001b[38;5;28;01mNone\u001b[39;00m:\n\u001b[1;32m    915\u001b[0m     \u001b[38;5;66;03m# fit method of arity 1 (unsupervised transformation)\u001b[39;00m\n\u001b[0;32m--> 916\u001b[0m     \u001b[38;5;28;01mreturn\u001b[39;00m \u001b[38;5;28;43mself\u001b[39;49m\u001b[38;5;241;43m.\u001b[39;49m\u001b[43mfit\u001b[49m\u001b[43m(\u001b[49m\u001b[43mX\u001b[49m\u001b[43m,\u001b[49m\u001b[43m \u001b[49m\u001b[38;5;241;43m*\u001b[39;49m\u001b[38;5;241;43m*\u001b[39;49m\u001b[43mfit_params\u001b[49m\u001b[43m)\u001b[49m\u001b[38;5;241m.\u001b[39mtransform(X)\n\u001b[1;32m    917\u001b[0m \u001b[38;5;28;01melse\u001b[39;00m:\n\u001b[1;32m    918\u001b[0m     \u001b[38;5;66;03m# fit method of arity 2 (supervised transformation)\u001b[39;00m\n\u001b[1;32m    919\u001b[0m     \u001b[38;5;28;01mreturn\u001b[39;00m \u001b[38;5;28mself\u001b[39m\u001b[38;5;241m.\u001b[39mfit(X, y, \u001b[38;5;241m*\u001b[39m\u001b[38;5;241m*\u001b[39mfit_params)\u001b[38;5;241m.\u001b[39mtransform(X)\n",
      "File \u001b[0;32m~/Desktop/最終課題/new_env/lib/python3.8/site-packages/sklearn/preprocessing/_data.py:839\u001b[0m, in \u001b[0;36mStandardScaler.fit\u001b[0;34m(self, X, y, sample_weight)\u001b[0m\n\u001b[1;32m    837\u001b[0m \u001b[38;5;66;03m# Reset internal state before fitting\u001b[39;00m\n\u001b[1;32m    838\u001b[0m \u001b[38;5;28mself\u001b[39m\u001b[38;5;241m.\u001b[39m_reset()\n\u001b[0;32m--> 839\u001b[0m \u001b[38;5;28;01mreturn\u001b[39;00m \u001b[38;5;28;43mself\u001b[39;49m\u001b[38;5;241;43m.\u001b[39;49m\u001b[43mpartial_fit\u001b[49m\u001b[43m(\u001b[49m\u001b[43mX\u001b[49m\u001b[43m,\u001b[49m\u001b[43m \u001b[49m\u001b[43my\u001b[49m\u001b[43m,\u001b[49m\u001b[43m \u001b[49m\u001b[43msample_weight\u001b[49m\u001b[43m)\u001b[49m\n",
      "File \u001b[0;32m~/Desktop/最終課題/new_env/lib/python3.8/site-packages/sklearn/base.py:1152\u001b[0m, in \u001b[0;36m_fit_context.<locals>.decorator.<locals>.wrapper\u001b[0;34m(estimator, *args, **kwargs)\u001b[0m\n\u001b[1;32m   1145\u001b[0m     estimator\u001b[38;5;241m.\u001b[39m_validate_params()\n\u001b[1;32m   1147\u001b[0m \u001b[38;5;28;01mwith\u001b[39;00m config_context(\n\u001b[1;32m   1148\u001b[0m     skip_parameter_validation\u001b[38;5;241m=\u001b[39m(\n\u001b[1;32m   1149\u001b[0m         prefer_skip_nested_validation \u001b[38;5;129;01mor\u001b[39;00m global_skip_validation\n\u001b[1;32m   1150\u001b[0m     )\n\u001b[1;32m   1151\u001b[0m ):\n\u001b[0;32m-> 1152\u001b[0m     \u001b[38;5;28;01mreturn\u001b[39;00m \u001b[43mfit_method\u001b[49m\u001b[43m(\u001b[49m\u001b[43mestimator\u001b[49m\u001b[43m,\u001b[49m\u001b[43m \u001b[49m\u001b[38;5;241;43m*\u001b[39;49m\u001b[43margs\u001b[49m\u001b[43m,\u001b[49m\u001b[43m \u001b[49m\u001b[38;5;241;43m*\u001b[39;49m\u001b[38;5;241;43m*\u001b[39;49m\u001b[43mkwargs\u001b[49m\u001b[43m)\u001b[49m\n",
      "File \u001b[0;32m~/Desktop/最終課題/new_env/lib/python3.8/site-packages/sklearn/preprocessing/_data.py:875\u001b[0m, in \u001b[0;36mStandardScaler.partial_fit\u001b[0;34m(self, X, y, sample_weight)\u001b[0m\n\u001b[1;32m    843\u001b[0m \u001b[38;5;250m\u001b[39m\u001b[38;5;124;03m\"\"\"Online computation of mean and std on X for later scaling.\u001b[39;00m\n\u001b[1;32m    844\u001b[0m \n\u001b[1;32m    845\u001b[0m \u001b[38;5;124;03mAll of X is processed as a single batch. This is intended for cases\u001b[39;00m\n\u001b[0;32m   (...)\u001b[0m\n\u001b[1;32m    872\u001b[0m \u001b[38;5;124;03m    Fitted scaler.\u001b[39;00m\n\u001b[1;32m    873\u001b[0m \u001b[38;5;124;03m\"\"\"\u001b[39;00m\n\u001b[1;32m    874\u001b[0m first_call \u001b[38;5;241m=\u001b[39m \u001b[38;5;129;01mnot\u001b[39;00m \u001b[38;5;28mhasattr\u001b[39m(\u001b[38;5;28mself\u001b[39m, \u001b[38;5;124m\"\u001b[39m\u001b[38;5;124mn_samples_seen_\u001b[39m\u001b[38;5;124m\"\u001b[39m)\n\u001b[0;32m--> 875\u001b[0m X \u001b[38;5;241m=\u001b[39m \u001b[38;5;28;43mself\u001b[39;49m\u001b[38;5;241;43m.\u001b[39;49m\u001b[43m_validate_data\u001b[49m\u001b[43m(\u001b[49m\n\u001b[1;32m    876\u001b[0m \u001b[43m    \u001b[49m\u001b[43mX\u001b[49m\u001b[43m,\u001b[49m\n\u001b[1;32m    877\u001b[0m \u001b[43m    \u001b[49m\u001b[43maccept_sparse\u001b[49m\u001b[38;5;241;43m=\u001b[39;49m\u001b[43m(\u001b[49m\u001b[38;5;124;43m\"\u001b[39;49m\u001b[38;5;124;43mcsr\u001b[39;49m\u001b[38;5;124;43m\"\u001b[39;49m\u001b[43m,\u001b[49m\u001b[43m \u001b[49m\u001b[38;5;124;43m\"\u001b[39;49m\u001b[38;5;124;43mcsc\u001b[39;49m\u001b[38;5;124;43m\"\u001b[39;49m\u001b[43m)\u001b[49m\u001b[43m,\u001b[49m\n\u001b[1;32m    878\u001b[0m \u001b[43m    \u001b[49m\u001b[43mdtype\u001b[49m\u001b[38;5;241;43m=\u001b[39;49m\u001b[43mFLOAT_DTYPES\u001b[49m\u001b[43m,\u001b[49m\n\u001b[1;32m    879\u001b[0m \u001b[43m    \u001b[49m\u001b[43mforce_all_finite\u001b[49m\u001b[38;5;241;43m=\u001b[39;49m\u001b[38;5;124;43m\"\u001b[39;49m\u001b[38;5;124;43mallow-nan\u001b[39;49m\u001b[38;5;124;43m\"\u001b[39;49m\u001b[43m,\u001b[49m\n\u001b[1;32m    880\u001b[0m \u001b[43m    \u001b[49m\u001b[43mreset\u001b[49m\u001b[38;5;241;43m=\u001b[39;49m\u001b[43mfirst_call\u001b[49m\u001b[43m,\u001b[49m\n\u001b[1;32m    881\u001b[0m \u001b[43m\u001b[49m\u001b[43m)\u001b[49m\n\u001b[1;32m    882\u001b[0m n_features \u001b[38;5;241m=\u001b[39m X\u001b[38;5;241m.\u001b[39mshape[\u001b[38;5;241m1\u001b[39m]\n\u001b[1;32m    884\u001b[0m \u001b[38;5;28;01mif\u001b[39;00m sample_weight \u001b[38;5;129;01mis\u001b[39;00m \u001b[38;5;129;01mnot\u001b[39;00m \u001b[38;5;28;01mNone\u001b[39;00m:\n",
      "File \u001b[0;32m~/Desktop/最終課題/new_env/lib/python3.8/site-packages/sklearn/base.py:605\u001b[0m, in \u001b[0;36mBaseEstimator._validate_data\u001b[0;34m(self, X, y, reset, validate_separately, cast_to_ndarray, **check_params)\u001b[0m\n\u001b[1;32m    603\u001b[0m         out \u001b[38;5;241m=\u001b[39m X, y\n\u001b[1;32m    604\u001b[0m \u001b[38;5;28;01melif\u001b[39;00m \u001b[38;5;129;01mnot\u001b[39;00m no_val_X \u001b[38;5;129;01mand\u001b[39;00m no_val_y:\n\u001b[0;32m--> 605\u001b[0m     out \u001b[38;5;241m=\u001b[39m \u001b[43mcheck_array\u001b[49m\u001b[43m(\u001b[49m\u001b[43mX\u001b[49m\u001b[43m,\u001b[49m\u001b[43m \u001b[49m\u001b[43minput_name\u001b[49m\u001b[38;5;241;43m=\u001b[39;49m\u001b[38;5;124;43m\"\u001b[39;49m\u001b[38;5;124;43mX\u001b[39;49m\u001b[38;5;124;43m\"\u001b[39;49m\u001b[43m,\u001b[49m\u001b[43m \u001b[49m\u001b[38;5;241;43m*\u001b[39;49m\u001b[38;5;241;43m*\u001b[39;49m\u001b[43mcheck_params\u001b[49m\u001b[43m)\u001b[49m\n\u001b[1;32m    606\u001b[0m \u001b[38;5;28;01melif\u001b[39;00m no_val_X \u001b[38;5;129;01mand\u001b[39;00m \u001b[38;5;129;01mnot\u001b[39;00m no_val_y:\n\u001b[1;32m    607\u001b[0m     out \u001b[38;5;241m=\u001b[39m _check_y(y, \u001b[38;5;241m*\u001b[39m\u001b[38;5;241m*\u001b[39mcheck_params)\n",
      "File \u001b[0;32m~/Desktop/最終課題/new_env/lib/python3.8/site-packages/sklearn/utils/validation.py:915\u001b[0m, in \u001b[0;36mcheck_array\u001b[0;34m(array, accept_sparse, accept_large_sparse, dtype, order, copy, force_all_finite, ensure_2d, allow_nd, ensure_min_samples, ensure_min_features, estimator, input_name)\u001b[0m\n\u001b[1;32m    913\u001b[0m         array \u001b[38;5;241m=\u001b[39m xp\u001b[38;5;241m.\u001b[39mastype(array, dtype, copy\u001b[38;5;241m=\u001b[39m\u001b[38;5;28;01mFalse\u001b[39;00m)\n\u001b[1;32m    914\u001b[0m     \u001b[38;5;28;01melse\u001b[39;00m:\n\u001b[0;32m--> 915\u001b[0m         array \u001b[38;5;241m=\u001b[39m \u001b[43m_asarray_with_order\u001b[49m\u001b[43m(\u001b[49m\u001b[43marray\u001b[49m\u001b[43m,\u001b[49m\u001b[43m \u001b[49m\u001b[43morder\u001b[49m\u001b[38;5;241;43m=\u001b[39;49m\u001b[43morder\u001b[49m\u001b[43m,\u001b[49m\u001b[43m \u001b[49m\u001b[43mdtype\u001b[49m\u001b[38;5;241;43m=\u001b[39;49m\u001b[43mdtype\u001b[49m\u001b[43m,\u001b[49m\u001b[43m \u001b[49m\u001b[43mxp\u001b[49m\u001b[38;5;241;43m=\u001b[39;49m\u001b[43mxp\u001b[49m\u001b[43m)\u001b[49m\n\u001b[1;32m    916\u001b[0m \u001b[38;5;28;01mexcept\u001b[39;00m ComplexWarning \u001b[38;5;28;01mas\u001b[39;00m complex_warning:\n\u001b[1;32m    917\u001b[0m     \u001b[38;5;28;01mraise\u001b[39;00m \u001b[38;5;167;01mValueError\u001b[39;00m(\n\u001b[1;32m    918\u001b[0m         \u001b[38;5;124m\"\u001b[39m\u001b[38;5;124mComplex data not supported\u001b[39m\u001b[38;5;130;01m\\n\u001b[39;00m\u001b[38;5;132;01m{}\u001b[39;00m\u001b[38;5;130;01m\\n\u001b[39;00m\u001b[38;5;124m\"\u001b[39m\u001b[38;5;241m.\u001b[39mformat(array)\n\u001b[1;32m    919\u001b[0m     ) \u001b[38;5;28;01mfrom\u001b[39;00m \u001b[38;5;21;01mcomplex_warning\u001b[39;00m\n",
      "File \u001b[0;32m~/Desktop/最終課題/new_env/lib/python3.8/site-packages/sklearn/utils/_array_api.py:380\u001b[0m, in \u001b[0;36m_asarray_with_order\u001b[0;34m(array, dtype, order, copy, xp)\u001b[0m\n\u001b[1;32m    378\u001b[0m     array \u001b[38;5;241m=\u001b[39m numpy\u001b[38;5;241m.\u001b[39marray(array, order\u001b[38;5;241m=\u001b[39morder, dtype\u001b[38;5;241m=\u001b[39mdtype)\n\u001b[1;32m    379\u001b[0m \u001b[38;5;28;01melse\u001b[39;00m:\n\u001b[0;32m--> 380\u001b[0m     array \u001b[38;5;241m=\u001b[39m \u001b[43mnumpy\u001b[49m\u001b[38;5;241;43m.\u001b[39;49m\u001b[43masarray\u001b[49m\u001b[43m(\u001b[49m\u001b[43marray\u001b[49m\u001b[43m,\u001b[49m\u001b[43m \u001b[49m\u001b[43morder\u001b[49m\u001b[38;5;241;43m=\u001b[39;49m\u001b[43morder\u001b[49m\u001b[43m,\u001b[49m\u001b[43m \u001b[49m\u001b[43mdtype\u001b[49m\u001b[38;5;241;43m=\u001b[39;49m\u001b[43mdtype\u001b[49m\u001b[43m)\u001b[49m\n\u001b[1;32m    382\u001b[0m \u001b[38;5;66;03m# At this point array is a NumPy ndarray. We convert it to an array\u001b[39;00m\n\u001b[1;32m    383\u001b[0m \u001b[38;5;66;03m# container that is consistent with the input's namespace.\u001b[39;00m\n\u001b[1;32m    384\u001b[0m \u001b[38;5;28;01mreturn\u001b[39;00m xp\u001b[38;5;241m.\u001b[39masarray(array)\n",
      "\u001b[0;31mValueError\u001b[0m: could not convert string to float: '5+'"
     ]
    }
   ],
   "source": [
    "# StandardScalerを使って標準化\n",
    "X_train_scaler = scaler.fit_transform(X_train_selected)"
   ]
  },
  {
   "cell_type": "code",
   "execution_count": null,
   "metadata": {},
   "outputs": [
    {
     "ename": "NameError",
     "evalue": "name 'X_train_scaler' is not defined",
     "output_type": "error",
     "traceback": [
      "\u001b[0;31m---------------------------------------------------------------------------\u001b[0m",
      "\u001b[0;31mNameError\u001b[0m                                 Traceback (most recent call last)",
      "Cell \u001b[0;32mIn[27], line 3\u001b[0m\n\u001b[1;32m      1\u001b[0m \u001b[38;5;66;03m# 標準化した部分を代入\u001b[39;00m\n\u001b[1;32m      2\u001b[0m X_train_scaled \u001b[38;5;241m=\u001b[39m np\u001b[38;5;241m.\u001b[39mcopy(X_train)  \u001b[38;5;66;03m# 元のデータのコピーを作成\u001b[39;00m\n\u001b[0;32m----> 3\u001b[0m X_train_scaled[:, columns_to_scale] \u001b[38;5;241m=\u001b[39m \u001b[43mX_train_scaler\u001b[49m\n\u001b[1;32m      5\u001b[0m \u001b[38;5;66;03m# 結果を表示（形状を確認）\u001b[39;00m\n\u001b[1;32m      6\u001b[0m \u001b[38;5;28mprint\u001b[39m(X_train_scaled\u001b[38;5;241m.\u001b[39mshape)\n",
      "\u001b[0;31mNameError\u001b[0m: name 'X_train_scaler' is not defined"
     ]
    }
   ],
   "source": [
    "# 標準化した部分を代入\n",
    "X_train_scaled = np.copy(X_train)  # 元のデータのコピーを作成\n",
    "X_train_scaled[:, columns_to_scale] = X_train_scaler\n",
    "\n",
    "# 結果を表示（形状を確認）\n",
    "print(X_train_scaled.shape)"
   ]
  },
  {
   "cell_type": "code",
   "execution_count": null,
   "metadata": {},
   "outputs": [
    {
     "data": {
      "application/vnd.code.notebook.error": {
       "message": "",
       "name": "",
       "stack": "\u001b[1;31m'Python 3.12.6' でセルを実行するには、 ipykernel パッケージが必要です。\n\n\u001b[1;31m次のコマンドを実行して、'ipykernel' を Python 環境にインストールします。\n\n\u001b[1;31mコマンド: '/opt/homebrew/bin/python3 -m pip install ipykernel -U --user --force-reinstall'"
      }
     },
     "execution_count": 1143,
     "metadata": {},
     "output_type": "execute_result"
    }
   ],
   "source": [
    "# 変換前(X_train)の状態\n",
    "df_X_train = pd.DataFrame(X_train, columns=['rcount','dialysisrenalendstage', 'asthma', 'irondef', 'pneum', 'substancedependence', 'psychologicaldisordermajor', 'depress', 'psychother', 'fibrosisandother', 'malnutrition', 'hemo', 'hematocrit', 'neutrophils', 'sodium', 'glucose', 'bloodureanitro', 'creatinine', 'bmi', 'pulse', 'respiration', 'secondarydiagnosisnonicd9', 'gender_F', 'gender_M', 'facidA', 'facidB', 'facidC', 'facidD', 'facidE'])\n",
    "df_X_train.head()"
   ]
  },
  {
   "cell_type": "code",
   "execution_count": null,
   "metadata": {},
   "outputs": [
    {
     "data": {
      "application/vnd.code.notebook.error": {
       "message": "",
       "name": "",
       "stack": "\u001b[1;31m'Python 3.12.6' でセルを実行するには、 ipykernel パッケージが必要です。\n\n\u001b[1;31m次のコマンドを実行して、'ipykernel' を Python 環境にインストールします。\n\n\u001b[1;31mコマンド: '/opt/homebrew/bin/python3 -m pip install ipykernel -U --user --force-reinstall'"
      }
     },
     "execution_count": 1144,
     "metadata": {},
     "output_type": "execute_result"
    }
   ],
   "source": [
    "# 変換後(X_train_scaled)の状態\n",
    "df_X_train_scaled = pd.DataFrame(X_train_scaled, columns=['rcount', 'dialysisrenalendstage', 'asthma', 'irondef', 'pneum', 'substancedependence', 'psychologicaldisordermajor', 'depress', 'psychother', 'fibrosisandother', 'malnutrition', 'hemo', 'hematocrit', 'neutrophils', 'sodium', 'glucose', 'bloodureanitro', 'creatinine', 'bmi', 'pulse', 'respiration', 'secondarydiagnosisnonicd9', 'gender_F', 'gender_M', 'facidA', 'facidB', 'facidC', 'facidD', 'facidE'])\n",
    "df_X_train_scaled.head()"
   ]
  },
  {
   "cell_type": "code",
   "execution_count": null,
   "metadata": {},
   "outputs": [
    {
     "data": {
      "application/vnd.code.notebook.error": {
       "message": "",
       "name": "",
       "stack": "\u001b[1;31m'Python 3.12.6' でセルを実行するには、 ipykernel パッケージが必要です。\n\n\u001b[1;31m次のコマンドを実行して、'ipykernel' を Python 環境にインストールします。\n\n\u001b[1;31mコマンド: '/opt/homebrew/bin/python3 -m pip install ipykernel -U --user --force-reinstall'"
      }
     },
     "execution_count": 1145,
     "metadata": {},
     "output_type": "execute_result"
    }
   ],
   "source": [
    "df_X_train_scaled.describe()"
   ]
  },
  {
   "cell_type": "code",
   "execution_count": null,
   "metadata": {},
   "outputs": [
    {
     "ename": "",
     "evalue": "",
     "output_type": "error",
     "traceback": [
      "\u001b[1;31m'Python 3.12.6' でセルを実行するには、 ipykernel パッケージが必要です。\n",
      "\u001b[1;31m次のコマンドを実行して、'ipykernel' を Python 環境にインストールします。\n",
      "\u001b[1;31mコマンド: '/opt/homebrew/bin/python3 -m pip install ipykernel -U --user --force-reinstall'"
     ]
    }
   ],
   "source": [
    "# X_testも同様に標準化\n",
    "X_test_selected = X_test[:, columns_to_scale]\n",
    "X_test_scaler = scaler.fit_transform(X_test_selected)"
   ]
  },
  {
   "cell_type": "code",
   "execution_count": null,
   "metadata": {},
   "outputs": [
    {
     "name": "stdout",
     "output_type": "stream",
     "text": []
    }
   ],
   "source": [
    "# 標準化した部分を代入\n",
    "X_test_scaled = np.copy(X_test)  # 元のデータのコピーを作成\n",
    "X_test_scaled[:, columns_to_scale] = X_test_scaler\n",
    "\n",
    "# 結果を表示（形状を確認）\n",
    "print(X_test_scaled.shape)"
   ]
  },
  {
   "cell_type": "code",
   "execution_count": null,
   "metadata": {},
   "outputs": [
    {
     "data": {
      "application/vnd.code.notebook.error": {
       "message": "",
       "name": "",
       "stack": "\u001b[1;31m'Python 3.12.6' でセルを実行するには、 ipykernel パッケージが必要です。\n\n\u001b[1;31m次のコマンドを実行して、'ipykernel' を Python 環境にインストールします。\n\n\u001b[1;31mコマンド: '/opt/homebrew/bin/python3 -m pip install ipykernel -U --user --force-reinstall'"
      }
     },
     "execution_count": 1148,
     "metadata": {},
     "output_type": "execute_result"
    }
   ],
   "source": [
    "# 変換前(X_test)の状態\n",
    "df_X_test = pd.DataFrame(X_test, columns=['rcount','dialysisrenalendstage', 'asthma', 'irondef', 'pneum', 'substancedependence', 'psychologicaldisordermajor', 'depress', 'psychother', 'fibrosisandother', 'malnutrition', 'hemo', 'hematocrit', 'neutrophils', 'sodium', 'glucose', 'bloodureanitro', 'creatinine', 'bmi', 'pulse', 'respiration', 'secondarydiagnosisnonicd9', 'gender_F', 'gender_M', 'facidA', 'facidB', 'facidC', 'facidD', 'facidE'])\n",
    "df_X_test.head()"
   ]
  },
  {
   "cell_type": "code",
   "execution_count": null,
   "metadata": {},
   "outputs": [
    {
     "data": {
      "application/vnd.code.notebook.error": {
       "message": "",
       "name": "",
       "stack": "\u001b[1;31m'Python 3.12.6' でセルを実行するには、 ipykernel パッケージが必要です。\n\n\u001b[1;31m次のコマンドを実行して、'ipykernel' を Python 環境にインストールします。\n\n\u001b[1;31mコマンド: '/opt/homebrew/bin/python3 -m pip install ipykernel -U --user --force-reinstall'"
      }
     },
     "execution_count": 1149,
     "metadata": {},
     "output_type": "execute_result"
    }
   ],
   "source": [
    "# 変換後(X_test_scaled)の状態\n",
    "df_X_test_scaled = pd.DataFrame(X_test_scaled, columns=['rcount', 'dialysisrenalendstage', 'asthma', 'irondef', 'pneum', 'substancedependence', 'psychologicaldisordermajor', 'depress', 'psychother', 'fibrosisandother', 'malnutrition', 'hemo', 'hematocrit', 'neutrophils', 'sodium', 'glucose', 'bloodureanitro', 'creatinine', 'bmi', 'pulse', 'respiration', 'secondarydiagnosisnonicd9', 'gender_F', 'gender_M', 'facidA', 'facidB', 'facidC', 'facidD', 'facidE'])\n",
    "df_X_test_scaled.head()"
   ]
  },
  {
   "cell_type": "code",
   "execution_count": null,
   "metadata": {},
   "outputs": [
    {
     "data": {
      "application/vnd.code.notebook.error": {
       "message": "",
       "name": "",
       "stack": "\u001b[1;31m'Python 3.12.6' でセルを実行するには、 ipykernel パッケージが必要です。\n\n\u001b[1;31m次のコマンドを実行して、'ipykernel' を Python 環境にインストールします。\n\n\u001b[1;31mコマンド: '/opt/homebrew/bin/python3 -m pip install ipykernel -U --user --force-reinstall'"
      }
     },
     "execution_count": 1150,
     "metadata": {},
     "output_type": "execute_result"
    }
   ],
   "source": [
    "df_X_test_scaled.describe()"
   ]
  },
  {
   "cell_type": "code",
   "execution_count": null,
   "metadata": {},
   "outputs": [
    {
     "ename": "",
     "evalue": "",
     "output_type": "error",
     "traceback": [
      "\u001b[1;31m'Python 3.12.6' でセルを実行するには、 ipykernel パッケージが必要です。\n",
      "\u001b[1;31m次のコマンドを実行して、'ipykernel' を Python 環境にインストールします。\n",
      "\u001b[1;31mコマンド: '/opt/homebrew/bin/python3 -m pip install ipykernel -U --user --force-reinstall'"
     ]
    }
   ],
   "source": [
    "# 重回帰で分析\n",
    "from sklearn.linear_model import LinearRegression\n",
    "model = LinearRegression()"
   ]
  },
  {
   "cell_type": "code",
   "execution_count": null,
   "metadata": {},
   "outputs": [
    {
     "data": {
      "application/vnd.code.notebook.error": {
       "message": "",
       "name": "",
       "stack": "\u001b[1;31m'Python 3.12.6' でセルを実行するには、 ipykernel パッケージが必要です。\n\n\u001b[1;31m次のコマンドを実行して、'ipykernel' を Python 環境にインストールします。\n\n\u001b[1;31mコマンド: '/opt/homebrew/bin/python3 -m pip install ipykernel -U --user --force-reinstall'"
      }
     },
     "execution_count": 1152,
     "metadata": {},
     "output_type": "execute_result"
    }
   ],
   "source": [
    "# 予測モデルの学習\n",
    "model.fit(X_train_scaled, y_train)"
   ]
  },
  {
   "cell_type": "code",
   "execution_count": null,
   "metadata": {},
   "outputs": [
    {
     "data": {
      "application/vnd.code.notebook.error": {
       "message": "",
       "name": "",
       "stack": "\u001b[1;31m'Python 3.12.6' でセルを実行するには、 ipykernel パッケージが必要です。\n\n\u001b[1;31m次のコマンドを実行して、'ipykernel' を Python 環境にインストールします。\n\n\u001b[1;31mコマンド: '/opt/homebrew/bin/python3 -m pip install ipykernel -U --user --force-reinstall'"
      }
     },
     "execution_count": 1153,
     "metadata": {},
     "output_type": "execute_result"
    }
   ],
   "source": [
    "# 学習データを用いて決定係数を算出\n",
    "model.score(X_train_scaled, y_train)"
   ]
  },
  {
   "cell_type": "code",
   "execution_count": null,
   "metadata": {},
   "outputs": [
    {
     "data": {
      "application/vnd.code.notebook.error": {
       "message": "",
       "name": "",
       "stack": "\u001b[1;31m'Python 3.12.6' でセルを実行するには、 ipykernel パッケージが必要です。\n\n\u001b[1;31m次のコマンドを実行して、'ipykernel' を Python 環境にインストールします。\n\n\u001b[1;31mコマンド: '/opt/homebrew/bin/python3 -m pip install ipykernel -U --user --force-reinstall'"
      }
     },
     "execution_count": 1154,
     "metadata": {},
     "output_type": "execute_result"
    }
   ],
   "source": [
    "# テストデータを用いて決定係数を算出\n",
    "model.score(X_test_scaled, y_test)"
   ]
  },
  {
   "cell_type": "code",
   "execution_count": null,
   "metadata": {},
   "outputs": [
    {
     "ename": "",
     "evalue": "",
     "output_type": "error",
     "traceback": [
      "\u001b[1;31m'Python 3.12.6' でセルを実行するには、 ipykernel パッケージが必要です。\n",
      "\u001b[1;31m次のコマンドを実行して、'ipykernel' を Python 環境にインストールします。\n",
      "\u001b[1;31mコマンド: '/opt/homebrew/bin/python3 -m pip install ipykernel -U --user --force-reinstall'"
     ]
    }
   ],
   "source": [
    "# テストデータに対する予測\n",
    "y_pred = model.predict(X_test_scaled)"
   ]
  },
  {
   "cell_type": "code",
   "execution_count": null,
   "metadata": {},
   "outputs": [
    {
     "data": {
      "application/vnd.code.notebook.error": {
       "message": "",
       "name": "",
       "stack": "\u001b[1;31m'Python 3.12.6' でセルを実行するには、 ipykernel パッケージが必要です。\n\n\u001b[1;31m次のコマンドを実行して、'ipykernel' を Python 環境にインストールします。\n\n\u001b[1;31mコマンド: '/opt/homebrew/bin/python3 -m pip install ipykernel -U --user --force-reinstall'"
      }
     },
     "execution_count": 1156,
     "metadata": {},
     "output_type": "execute_result"
    }
   ],
   "source": [
    "# 二乗平均平方根誤差（RMSE）の値を算出\n",
    "from sklearn.metrics import mean_squared_error\n",
    "mean_squared_error(y_test, y_pred, squared=False)"
   ]
  },
  {
   "cell_type": "code",
   "execution_count": null,
   "metadata": {},
   "outputs": [
    {
     "data": {
      "application/vnd.code.notebook.error": {
       "message": "",
       "name": "",
       "stack": "\u001b[1;31m'Python 3.12.6' でセルを実行するには、 ipykernel パッケージが必要です。\n\n\u001b[1;31m次のコマンドを実行して、'ipykernel' を Python 環境にインストールします。\n\n\u001b[1;31mコマンド: '/opt/homebrew/bin/python3 -m pip install ipykernel -U --user --force-reinstall'"
      }
     },
     "execution_count": 1157,
     "metadata": {},
     "output_type": "execute_result"
    }
   ],
   "source": [
    "# 平均絶対誤差(MAPE) の値を算出\n",
    "np.mean(np.abs((y_test - y_pred) / y_test)) * 100"
   ]
  },
  {
   "cell_type": "code",
   "execution_count": null,
   "metadata": {},
   "outputs": [
    {
     "name": "stdout",
     "output_type": "stream",
     "text": []
    }
   ],
   "source": [
    "# 計算式の確認\n",
    "print(\"係数:\", model.coef_)\n",
    "print(\"切片:\", model.intercept_)"
   ]
  },
  {
   "cell_type": "code",
   "execution_count": null,
   "metadata": {},
   "outputs": [
    {
     "data": {
      "application/vnd.code.notebook.error": {
       "message": "",
       "name": "",
       "stack": "\u001b[1;31m'Python 3.12.6' でセルを実行するには、 ipykernel パッケージが必要です。\n\n\u001b[1;31m次のコマンドを実行して、'ipykernel' を Python 環境にインストールします。\n\n\u001b[1;31mコマンド: '/opt/homebrew/bin/python3 -m pip install ipykernel -U --user --force-reinstall'"
      }
     },
     "metadata": {},
     "output_type": "display_data"
    }
   ],
   "source": [
    "# 各要素が入院期間に与える影響度合い\n",
    "sns.barplot(x = ['rcount', 'dialysisrenalendstage', 'asthma', 'irondef', 'pneum', 'substancedependence', 'psychologicaldisordermajor', 'depress', 'psychother', 'fibrosisandother', 'malnutrition', 'hemo', 'hematocrit', 'neutrophils', 'sodium', 'glucose', 'bloodureanitro', 'creatinine', 'bmi', 'pulse', 'respiration', 'secondarydiagnosisnonicd9','gender_F', 'gender_M', 'facid_A', 'facid_B', 'facid_C', 'facid_D', 'facid_E'], y=model.coef_)\n",
    "\n",
    "# グラフの設定\n",
    "plt.title('Correlation between Length of Stay and Selected Features', fontsize=14)\n",
    "plt.xlabel('Features', fontsize=12)\n",
    "plt.ylabel('Correlation with Length of Stay', fontsize=12)\n",
    "plt.xticks(rotation=45, ha='right')  # x軸ラベルを45度回転して見やすくする\n",
    "plt.tight_layout()  # レイアウトを自動調整\n",
    "plt.show()"
   ]
  },
  {
   "cell_type": "code",
   "execution_count": null,
   "metadata": {},
   "outputs": [
    {
     "data": {
      "application/vnd.code.notebook.error": {
       "message": "",
       "name": "",
       "stack": "\u001b[1;31m'Python 3.12.6' でセルを実行するには、 ipykernel パッケージが必要です。\n\n\u001b[1;31m次のコマンドを実行して、'ipykernel' を Python 環境にインストールします。\n\n\u001b[1;31mコマンド: '/opt/homebrew/bin/python3 -m pip install ipykernel -U --user --force-reinstall'"
      }
     },
     "execution_count": 1160,
     "metadata": {},
     "output_type": "execute_result"
    }
   ],
   "source": [
    "# DataFrame に変換\n",
    "df = pd.DataFrame({\n",
    "    'Actual': y_test,     # 実際の値\n",
    "    'Predicted': y_pred   # 予測された値\n",
    "})\n",
    "\n",
    "# DataFrame を表示\n",
    "df"
   ]
  }
 ],
 "metadata": {
  "kernelspec": {
   "display_name": "base",
   "language": "python",
   "name": "python3"
  },
  "language_info": {
   "codemirror_mode": {
    "name": "ipython",
    "version": 3
   },
   "file_extension": ".py",
   "mimetype": "text/x-python",
   "name": "python",
   "nbconvert_exporter": "python",
   "pygments_lexer": "ipython3",
   "version": "3.8.16"
  }
 },
 "nbformat": 4,
 "nbformat_minor": 2
}
